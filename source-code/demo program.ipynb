{
 "cells": [
  {
   "cell_type": "markdown",
   "metadata": {},
   "source": [
    "# Preparing (Importing and initializing variables)"
   ]
  },
  {
   "cell_type": "code",
   "execution_count": 1,
   "metadata": {},
   "outputs": [
    {
     "name": "stdout",
     "output_type": "stream",
     "text": [
      "pygame 2.0.1 (SDL 2.0.14, Python 3.8.8)\n",
      "Hello from the pygame community. https://www.pygame.org/contribute.html\n"
     ]
    }
   ],
   "source": [
    "import os\n",
    "import time\n",
    "import pygame\n",
    "import pyprind\n",
    "import librosa\n",
    "import numpy as np\n",
    "import pandas as pd\n",
    "import soundfile as sf\n",
    "import sounddevice as sd\n",
    "\n",
    "from playsound import playsound\n",
    "from IPython.display import Audio \n",
    "from IPython.display import clear_output\n",
    "\n",
    "from unified_algorithm_v2.unifiedalghorithm import unified_algorithm, unified_algorithm_mod\n",
    "\n",
    "import tensorflow as tf\n",
    "from tensorflow.keras import backend as K\n",
    "from tensorflow.keras.models import load_model\n",
    "\n",
    "from FTANet.network.ftanet_reverse import create_regularized_model as create_model\n",
    "from FTANet.cfp import cfp_process\n",
    "from FTANet.loader import batchize_test\n",
    "from FTANet.evaluator import est"
   ]
  },
  {
   "cell_type": "code",
   "execution_count": null,
   "metadata": {},
   "outputs": [],
   "source": [
    "# for midi player\n",
    "midi_file = '.\\database\\MIR-QBSH\\midiFile\\\\00001.mid'\n",
    "freq = 44100    # audio CD quality\n",
    "bitsize = -16   # unsigned 16 bit\n",
    "channels = 2    # 1 is mono, 2 is stereo\n",
    "buffer = 1024    # number of samples\n",
    "pygame.mixer.init(freq, bitsize, channels, buffer)\n",
    "pygame.mixer.music.set_volume(0.8) # optional volume 0 to 1.0\n",
    "\n",
    "# for ftanet extraction\n",
    "in_shape = (128, 320, 3)\n",
    "model_path = 'E:\\Kuliah\\S2\\Thesis\\source code thesis\\FTANet\\model\\\\retrain\\model_2007_r-epoch8.h5'\n",
    "model = create_model(factor = 0.00001, rate = 0.5, input_shape=in_shape)\n",
    "model.load_weights(model_path)\n",
    "\n",
    "# for recording\n",
    "samplerate = 48000  \n",
    "duration = 8 # seconds\n",
    "filename = 'demo.wav'\n"
   ]
  },
  {
   "cell_type": "code",
   "execution_count": null,
   "metadata": {},
   "outputs": [],
   "source": [
    "def ftanet_extraction(model, query, batch_size = 128):\n",
    "    preds = []\n",
    "    data, CenFreq, time_arr = cfp_process(query, model_type='vocal', sr=8000, hop=80, window=768)\n",
    "    feature = batchize_test(data, batch_size)\n",
    "    \n",
    "    for i in range(len(feature)):\n",
    "        x = feature[i]\n",
    "        \n",
    "        # predict and concat\n",
    "        num = x.shape[0] // batch_size\n",
    "        if x.shape[0] % batch_size != 0:\n",
    "            num += 1\n",
    "        \n",
    "        for j in range(num):\n",
    "            # x: (batch_size, freq_bins, seg_len)\n",
    "            if j == num - 1:\n",
    "                X = x[j*batch_size : ]\n",
    "                length = x.shape[0]-j*batch_size\n",
    "            else:\n",
    "                X = x[j*batch_size : (j+1)*batch_size]\n",
    "                length = batch_size\n",
    "\n",
    "            X = np.reshape(X, (1, 128, 320, 3))\n",
    "            prediction = model.predict(X, length)\n",
    "            preds.append(prediction)\n",
    "            \n",
    "    preds = np.concatenate(np.concatenate(preds, axis=0), axis=0)\n",
    "    \n",
    "    est_arr = est(preds, CenFreq, time_arr)\n",
    "    f0 = []\n",
    "    mel_time = []\n",
    "    for x in est_arr:\n",
    "        mel_time.append(x[0])\n",
    "        f0.append(x[1])\n",
    "    \n",
    "    return mel_time, f0  "
   ]
  },
  {
   "cell_type": "code",
   "execution_count": 4,
   "metadata": {},
   "outputs": [],
   "source": [
    "# def demo():\n",
    "#     print(\"start recording...\")\n",
    "#     mydata = sd.rec(int(samplerate * duration), samplerate=samplerate,\n",
    "#         channels=1, blocking=True)\n",
    "#     print(\"end\")\n",
    "#     sd.wait()\n",
    "#     sf.write(filename, mydata, samplerate)\n",
    "    \n",
    "#     # dont work in vscode\n",
    "#     # play the recording\n",
    "#     # samples, sample_rate = librosa.load(filename , sr = 16000)\n",
    "#     # samples = librosa.resample(samples, sample_rate, 8000)\n",
    "#     # Audio(samples,rate=8000, autoplay=True)\n",
    "#     print(\"extracting melody...\")\n",
    "#     mel_time, f0 = ftanet_extraction(model, filename)\n",
    "#     # print(mel_time, f0)\n"
   ]
  },
  {
   "cell_type": "code",
   "execution_count": 4,
   "metadata": {},
   "outputs": [],
   "source": [
    "def play_music(music_file): # from https://gist.github.com/naotokui/29073690279056e9354e6259efbf8f30\n",
    "    \"\"\"\n",
    "    stream music with mixer.music module in blocking manner\n",
    "    this will stream the sound from disk while playing\n",
    "    \"\"\"\n",
    "    clock = pygame.time.Clock()\n",
    "    try:\n",
    "        pygame.mixer.music.load(music_file)\n",
    "        print (\"Music file {} loaded!\".format(music_file)) \n",
    "    except pygame.error:\n",
    "        print (\"File {} not found! ({})\".format(music_file, pygame.get_error()))\n",
    "        return\n",
    "    pygame.mixer.music.play()\n",
    "    while pygame.mixer.music.get_busy():\n",
    "        # check if playback has finished\n",
    "        clock.tick(30)"
   ]
  },
  {
   "cell_type": "code",
   "execution_count": 5,
   "metadata": {},
   "outputs": [
    {
     "name": "stdout",
     "output_type": "stream",
     "text": [
      "Play the humming...\n",
      "Extracting melody...\n"
     ]
    }
   ],
   "source": [
    "def demo_program():\n",
    "    wav_list_path = 'wav_demo.txt'\n",
    "    with open(\"wav_demo.txt\",'r') as f:\n",
    "        querylist = f.readlines()\n",
    "    f.close()\n",
    "\n",
    "    # bar = pyprind.ProgPercent(len(querylist), track_time=True, stream=1, title='Starting demo')\n",
    "    for files in querylist:        \n",
    "        files = files.replace(\"\\n\",\"\")\n",
    "        files = files.split(',')\n",
    "        query = files[0]\n",
    "        truth = files[1]\n",
    "        \n",
    "        print('Play the humming...')\n",
    "        playsound(query)\n",
    "        \n",
    "        print('Extracting melody...') \n",
    "        mel_time, f0 = ftanet_extraction(model, query)\n",
    "        \n",
    "        print('Matching process...')\n",
    "        result, alg, rank = unified_algorithm(f0, truth, compressed = 1)\n",
    "        # print(result, alg, truth)\n",
    "        # print(f0)\n",
    "        result = list(result)[0]\n",
    "        result = result.replace('midi_note', 'midiFile').replace('.csv', '.mid')\n",
    "        # \n",
    "        try:\n",
    "            play_music(result)\n",
    "        except KeyboardInterrupt:\n",
    "            # if user hits Ctrl/C then exit, (works only in console mode)    \n",
    "            pygame.mixer.music.fadeout(1000)\n",
    "            pygame.mixer.music.stop()\n",
    "        clear_output(wait=True)\n",
    "\n",
    "demo_program()"
   ]
  },
  {
   "cell_type": "code",
   "execution_count": null,
   "metadata": {},
   "outputs": [],
   "source": [
    "model.summary()"
   ]
  },
  {
   "cell_type": "code",
   "execution_count": null,
   "metadata": {},
   "outputs": [],
   "source": []
  }
 ],
 "metadata": {
  "kernelspec": {
   "display_name": "Python 3.8.8 64-bit",
   "language": "python",
   "name": "python3"
  },
  "language_info": {
   "codemirror_mode": {
    "name": "ipython",
    "version": 3
   },
   "file_extension": ".py",
   "mimetype": "text/x-python",
   "name": "python",
   "nbconvert_exporter": "python",
   "pygments_lexer": "ipython3",
   "version": "3.8.8"
  },
  "orig_nbformat": 4,
  "vscode": {
   "interpreter": {
    "hash": "5bd77b28dae0335d82a29543ac23f66b40c0df6f9ea51368662aa49cd1fb1eb4"
   }
  }
 },
 "nbformat": 4,
 "nbformat_minor": 2
}
